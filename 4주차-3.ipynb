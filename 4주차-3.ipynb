{
 "cells": [
  {
   "cell_type": "markdown",
   "metadata": {},
   "source": [
    "\n",
    "## **12장 Gauss 소거법의 문제점**\n",
    "\n",
    "**12.1 연립방정식 해 풀기**\n",
    "\n",
    "\n",
    "$$2x_2 +3x_3 =8$$\n",
    "\n",
    "$$4x_1 +6x_2 +7x_3 =-3$$\n",
    "\n",
    "$$2x_1 +x_2 +6x_3 =5$$\n",
    "\n",
    "행렬로 표현:\n",
    "\n",
    "\n",
    "$$\\left\\lbrack \\begin{array}{ccc} 0 & 2 & 3\\newline 4 & 6 & 7\\newline 2 & 1 & 6 \\end{array}\\right\\rbrack \\left\\lbrack \\begin{array}{c} x_1 \\newline x_2 \\newline x_3  \\end{array}\\right\\rbrack =\\left\\lbrack \\begin{array}{c} 8\\newline -3\\newline 5 \\end{array}\\right\\rbrack$$"
   ]
  },
  {
   "cell_type": "code",
   "execution_count": 1,
   "metadata": {},
   "source": [
    "% 문제 1: 연립방정식\n",
    "A = [0 2 3; 4 6 7; 2 1 6]; % 계수 행렬\n",
    "b = [8; -3; 5]; % 상수 벡터\n",
    "\n",
    "% Gauss 소거법 적용\n",
    "n = length(b);\n",
    "for i = 1:n-1\n",
    "    for j = i+1:n\n",
    "        factor = A(j,i) / A(i,i);\n",
    "        A(j,i:n) = A(j,i:n) - factor * A(i,i:n);\n",
    "        b(j) = b(j) - factor * b(i);\n",
    "    end\n",
    "end\n",
    "\n",
    "% 후진 대입법 적용\n",
    "x = zeros(n,1);\n",
    "x(n) = b(n) / A(n,n);\n",
    "for i = n-1:-1:1\n",
    "    x(i) = (b(i) - A(i,i+1:n)*x(i+1:n)) / A(i,i);\n",
    "end\n",
    "\n",
    "% 결과 출력\n",
    "disp('문제 1의 해 (x_1, x_2, x_3):');"
   ],
   "outputs": [
    {
     "data": {
      "text/plain": [
       "문제 1의 해 (x_1, x_2, x_3):"
      ]
     },
     "metadata": {},
     "execution_count":  1,
     "output_type": "execute_result"
    }
   ]
  },
  {
   "cell_type": "code",
   "execution_count": 2,
   "metadata": {},
   "source": [
    "disp(x);"
   ],
   "outputs": [
    {
     "data": {
      "text/plain": [
       "   NaN\n",
       "   NaN\n",
       "   NaN"
      ]
     },
     "metadata": {},
     "execution_count":  2,
     "output_type": "execute_result"
    }
   ]
  },
  {
   "cell_type": "markdown",
   "metadata": {},
   "source": [
    "\n",
    "문제 1의 해에서 <samp>NaN</samp>이 나오는 이유는 첫 번째 행렬의 첫 번째 원소가 0이기 때문입니다. Gauss 소거법에서 첫 번째 피벗 값이 0일 경우 소거 작업이 제대로 수행되지 않아 문제가 발생합니다.\n",
    "\n",
    "\n",
    "(**예를 들어 소거법에서는 모든 아래의 행들은 전체 행렬의 첫번째 원소로 그 해당행의 첫번째원소를 나눈값을 곱해서 빼주는 것이기 때문에 분모에 0이 들어가면 에러가 납니다**.)\n",
    "\n",
    "\n",
    "이를 해결하기 위해 행을 교환하여 첫 번째 원소가 0이 아닌 행을 맨 위로 올려야 합니다.\n",
    "\n",
    "\n",
    "(**피벗방정식(첫번째 방정식)에 포함된 피벗 요소(첫번째 요소)를 피벗화(교환)한다.**)\n",
    ""
   ]
  },
  {
   "cell_type": "code",
   "execution_count": 3,
   "metadata": {},
   "source": [
    "% 문제 1: 연립방정식\n",
    "A = [0 2 3; 4 6 7; 2 1 6]; % 계수 행렬\n",
    "b = [8; -3; 5]; % 상수 벡터\n",
    "\n",
    "% 행 교환 (첫 번째 열의 첫 번째 원소가 0이므로)\n",
    "if A(1,1) == 0\n",
    "    A([1 2], :) = A([2 1], :); % 1행과 2행 교환\n",
    "    b([1 2]) = b([2 1]);       % 상수 벡터에서도 동일하게 교환\n",
    "end\n",
    "\n",
    "% Gauss 소거법 적용\n",
    "n = length(b);\n",
    "for i = 1:n-1\n",
    "    for j = i+1:n\n",
    "        factor = A(j,i) / A(i,i);\n",
    "        A(j,i:n) = A(j,i:n) - factor * A(i,i:n);\n",
    "        b(j) = b(j) - factor * b(i);\n",
    "    end\n",
    "end\n",
    "\n",
    "% 후진 대입법 적용\n",
    "x = zeros(n,1);\n",
    "x(n) = b(n) / A(n,n);\n",
    "for i = n-1:-1:1\n",
    "    x(i) = (b(i) - A(i,i+1:n)*x(i+1:n)) / A(i,i);\n",
    "end\n",
    "\n",
    "% 결과 출력\n",
    "disp('문제 1의 해 (x_1, x_2, x_3):');"
   ],
   "outputs": [
    {
     "data": {
      "text/plain": [
       "문제 1의 해 (x_1, x_2, x_3):"
      ]
     },
     "metadata": {},
     "execution_count":  3,
     "output_type": "execute_result"
    }
   ]
  },
  {
   "cell_type": "code",
   "execution_count": 4,
   "metadata": {},
   "source": [
    "disp(x);"
   ],
   "outputs": [
    {
     "data": {
      "text/plain": [
       "   -5.4318\n",
       "    0.0455\n",
       "    2.6364"
      ]
     },
     "metadata": {},
     "execution_count":  4,
     "output_type": "execute_result"
    }
   ]
  },
  {
   "cell_type": "markdown",
   "metadata": {},
   "source": [
    "\n",
    "\n",
    "**12.2 연립방정식 예제**\n",
    "\n",
    "\n",
    "다음의 연립방정식을 풀어보시오:\n",
    "\n",
    "\n",
    "$$3x_1 -0.1x_2 -0.2x_3 =7.85$$\n",
    "\n",
    "$$0.1x_1 +7x_2 -0.3x_3 =-19.3$$\n",
    "\n",
    "$$0.3x_1 -0.2x_2 +10x_3 =71.4$$\n",
    "\n",
    "행렬 풀이 후 해:\n",
    "\n",
    "\n",
    "$$(x_1 ,x_2 ,x_3 )=(3.0000,-2.5000,7.0000)$$"
   ]
  },
  {
   "cell_type": "code",
   "execution_count": 5,
   "metadata": {},
   "source": [
    "% 문제 2: 연립방정식\n",
    "A = [3 -0.1 -0.2; 0.1 7 -0.3; 0.3 -0.2 10]; % 계수 행렬\n",
    "b = [7.85; -19.3; 71.4]; % 상수 벡터\n",
    "\n",
    "% Gauss 소거법 적용\n",
    "n = length(b);\n",
    "for i = 1:n-1\n",
    "    for j = i+1:n\n",
    "        factor = A(j,i) / A(i,i);\n",
    "        A(j,i:n) = A(j,i:n) - factor * A(i,i:n);\n",
    "        b(j) = b(j) - factor * b(i);\n",
    "    end\n",
    "end\n",
    "\n",
    "% 후진 대입법 적용\n",
    "x = zeros(n,1);\n",
    "x(n) = b(n) / A(n,n);\n",
    "for i = n-1:-1:1\n",
    "    x(i) = (b(i) - A(i,i+1:n)*x(i+1:n)) / A(i,i);\n",
    "end\n",
    "\n",
    "% 결과 출력\n",
    "\n",
    "disp('문제 2의 해 (x_1, x_2, x_3):');"
   ],
   "outputs": [
    {
     "data": {
      "text/plain": [
       "문제 2의 해 (x_1, x_2, x_3):"
      ]
     },
     "metadata": {},
     "execution_count":  5,
     "output_type": "execute_result"
    }
   ]
  },
  {
   "cell_type": "code",
   "execution_count": 6,
   "metadata": {},
   "source": [
    "disp(x);"
   ],
   "outputs": [
    {
     "data": {
      "text/plain": [
       "   3.000000000000000\n",
       "  -2.500000000000000\n",
       "   7.000000000000002"
      ]
     },
     "metadata": {},
     "execution_count":  6,
     "output_type": "execute_result"
    }
   ]
  },
  {
   "cell_type": "markdown",
   "metadata": {},
   "source": [
    "\n",
    "format long(소수 15자리 적용)\n",
    ""
   ]
  },
  {
   "cell_type": "code",
   "execution_count": 7,
   "metadata": {},
   "source": [
    "% 문제 2: 연립방정식 풀이 (format long 적용 및 상대 오차 계산)\n",
    "\n",
    "% 소수점 15자리까지 결과를 표시하도록 설정\n",
    "format long\n",
    "\n",
    "% 계수 행렬과 상수 벡터 정의\n",
    "A = [3 -0.1 -0.2; 0.1 7 -0.3; 0.3 -0.2 10]; % 계수 행렬\n",
    "b = [7.85; -19.3; 71.4]; % 상수 벡터\n",
    "\n",
    "% 실제 해 (true solution) (이미지에 주어진 값)\n",
    "true_x = [3.0000; -2.5000; 7.0000]; % 이미지에서 주어진 실제 값\n",
    "\n",
    "n = length(b); % 행렬의 크기\n",
    "\n",
    "% Gauss 소거법: 부분 피벗화 적용\n",
    "for i = 1:n-1\n",
    "    % 부분 피벗화: 현재 열에서 가장 큰 값을 찾고 행을 교환\n",
    "    [~, maxRow] = max(abs(A(i:n,i))); % 절대값이 가장 큰 행을 찾음\n",
    "    maxRow = maxRow + i - 1; % 실제 행 위치로 조정\n",
    "    if maxRow ~= i\n",
    "        A([i maxRow], :) = A([maxRow i], :); % 행 교환\n",
    "        b([i maxRow]) = b([maxRow i]);       % 상수 벡터도 교환\n",
    "    end\n",
    "\n",
    "    % Gauss 소거법 진행: 상삼각 행렬로 변환\n",
    "    for j = i+1:n\n",
    "        factor = A(j,i) / A(i,i);\n",
    "        A(j,i:n) = A(j,i:n) - factor * A(i,i:n);\n",
    "        b(j) = b(j) - factor * b(i);\n",
    "    end\n",
    "end\n",
    "\n",
    "% 후진 대입법으로 해 구하기\n",
    "x = zeros(n,1);\n",
    "x(n) = b(n) / A(n,n); % 마지막 변수를 구함\n",
    "for i = n-1:-1:1\n",
    "    x(i) = (b(i) - A(i,i+1:n)*x(i+1:n)) / A(i,i); % 나머지 변수 계산\n",
    "end\n",
    "\n",
    "% 결과 출력\n",
    "disp('format long을 사용한 문제 2의 해 (x_1, x_2, x_3):');"
   ],
   "outputs": [
    {
     "data": {
      "text/plain": [
       "format long을 사용한 문제 2의 해 (x_1, x_2, x_3):"
      ]
     },
     "metadata": {},
     "execution_count":  7,
     "output_type": "execute_result"
    }
   ]
  },
  {
   "cell_type": "code",
   "execution_count": 8,
   "metadata": {},
   "source": [
    "disp(x);"
   ],
   "outputs": [
    {
     "data": {
      "text/plain": [
       "   3.000000000000000\n",
       "  -2.500000000000000\n",
       "   7.000000000000002"
      ]
     },
     "metadata": {},
     "execution_count":  8,
     "output_type": "execute_result"
    }
   ]
  },
  {
   "cell_type": "code",
   "execution_count": 9,
   "metadata": {},
   "source": [
    "\n",
    "% 상대 오차 계산 (Absolute Relative Error)\n",
    "relative_error = abs((true_x - x) ./ true_x);\n",
    "\n",
    "% 상대 오차 출력\n",
    "disp('각 변수에 대한 상대 오차:');"
   ],
   "outputs": [
    {
     "data": {
      "text/plain": [
       "각 변수에 대한 상대 오차:"
      ]
     },
     "metadata": {},
     "execution_count":  9,
     "output_type": "execute_result"
    }
   ]
  },
  {
   "cell_type": "code",
   "execution_count": 10,
   "metadata": {},
   "source": [
    "disp(relative_error);"
   ],
   "outputs": [
    {
     "data": {
      "text/plain": [
       "1.0e-15 *\n",
       "                   0\n",
       "                   0\n",
       "   0.253765262771464"
      ]
     },
     "metadata": {},
     "execution_count":  10,
     "output_type": "execute_result"
    }
   ]
  },
  {
   "cell_type": "markdown",
   "metadata": {},
   "source": [
    "\n",
    "\n",
    "-  **수치 기법에서는 오차가 없으나** 컴퓨터의 반올림 오차로 인해 발생.\n",
    "-  **Gauss 소거법은 이전 결과에 의존하여** 각 단계의 결과값을 계산함.\n",
    "-  초기 단계에 발생한 오차가 계속해서 전달됨.\n",
    "-  방정식의 수가 많은 시스템에서는 반올림 오차가 매우 중요함.\n",
    "-  **100개 이상의 방정식을 다루는 경우 반올림 오차가 매우 중요해진다고** 알려져 있음.\n",
    "-  **불량 조건 시스템 문제**와도 연결됨.(**민감도와 연결되어 있으며, 민감도가 높으면 안좋은 시스템이다 \\-> 개떡같이 말해도 찰떡같이 알아들어야 좋은 시스템!**)\n",
    "\n",
    "**12.3 불량 조건 시스템**\n",
    "\n",
    "-  **우량 조건 시스템**: 계수의 변화가 작으면 해도 약간의 변화만 발생\n",
    "-  **불량 조건 시스템**: 계수의 작은 변화가 해에 커다란 변화를 유발\n",
    "\n",
    "**예제:**\n",
    "\n",
    "\n",
    "다음 연립방정식의 두 가지 사례를 비교:\n",
    "\n",
    "\n",
    "$$\\begin{array}{l} x_1 +2x_2 =10\\newline 1.1x_1 +2x_2 =10.4 \\end{array}$$\n",
    "\n",
    "1.  첫 번째 시스템의 해:\n",
    "\n",
    "$$\\begin{array}{l} x_1 =\\frac{2(10)-2(10.4)}{1(2)-2(1.1)}=4\\newline x_2 =\\frac{1(10.4)-1.1(10)}{1(2)-2(1.1)}=3 \\end{array}$$\n",
    "\n",
    "1.  두 번째 시스템의 해 (계수가 약간 변경됨):\n",
    "\n",
    "$$\\begin{array}{l} x_1 +2x_2 =10\\newline 1.05x_1 +2x_2 =10.4 \\end{array}$$\n",
    "\n",
    "$$\\begin{array}{l} x_1 =\\frac{2(10)-2(10.4)}{1(2)-2(1.05)}=8\\newline x_2 =\\frac{1(10.4)-1.1(10)}{1(2)-2(1.05)}=1 \\end{array}$$\n",
    "\n",
    "**결과:**\n",
    "\n",
    "1.  $\\displaystyle 8+2(1)=10$\n",
    "2. $\\displaystyle 1.1(8)+2(1)=10.8\\approx 10.4$\n",
    "\n",
    "계수는 5% 변했지만 독립변수 $x_1 ,x_2$ 는 2배(200%~300%) 이상 변했다\n",
    "\n",
    "\n",
    "하지만 결과는 4% 변했기 때문에 객관적으로 괜찮은 시스템으로 볼수 있다.\n",
    "\n",
    "\n",
    "계수가 5% 변했지만 결과는 4% 변했기 때문에 계수의 변화량 보다 결과의 변화량이 적다고 판단되어 $x_1 ,x_2$ 가 참값에 있다고 오해하게 된다.\n",
    "\n",
    "\n",
    "하지만 이러한 식으로 구한 계수로 인한 참값이 실제 값과 다르기 때문에 내재적인 불안정성이 존재한다.\n",
    "\n",
    "\n",
    "따라서 **불량 조건 시스템**이란  **엉뚱한 값을 집어 넣게 되어 참 값이 아닌 불량값을 해로 도출한 것을 의미한다.**\n",
    "\n",
    "\n",
    "원래의 학습데이터에서 계수값을 산출하여 엉뚱한 값을 해로 믿게되어  **기존의 방정식에서만 참값과 유사한 결과값을 도출하는 것을 의미한다.**\n",
    "\n",
    "\n",
    "계산오차의 경우 민감성이 높은 시스템은 계산오차가 더 커지기 때문에 시스템 불안정성이 더 올라간다. 이러한 시스템도 불량조건 시스템에 해당한다.\n",
    "\n",
    "\n",
    "<img src=\"data:image/jpg;base64,/9j/4AAQSkZJRgABAQAAAQABAAD/2wBDAAUDBAQEAwUEBAQFBQUGBwwIBwcHBw8LCwkMEQ8SEhEPERETFhwXExQaFRERGCEYGh0dHx8fExciJCIeJBweHx7/2wBDAQUFBQcGBw4ICA4eFBEUHh4eHh4eHh4eHh4eHh4eHh4eHh4eHh4eHh4eHh4eHh4eHh4eHh4eHh4eHh4eHh4eHh7/wAARCACWAfsDASIAAhEBAxEB/8QAHwAAAQUBAQEBAQEAAAAAAAAAAAECAwQFBgcICQoL/8QAtRAAAgEDAwIEAwUFBAQAAAF9AQIDAAQRBRIhMUEGE1FhByJxFDKBkaEII0KxwRVS0fAkM2JyggkKFhcYGRolJicoKSo0NTY3ODk6Q0RFRkdISUpTVFVWV1hZWmNkZWZnaGlqc3R1dnd4eXqDhIWGh4iJipKTlJWWl5iZmqKjpKWmp6ipqrKztLW2t7i5usLDxMXGx8jJytLT1NXW19jZ2uHi4+Tl5ufo6erx8vP09fb3+Pn6/8QAHwEAAwEBAQEBAQEBAQAAAAAAAAECAwQFBgcICQoL/8QAtREAAgECBAQDBAcFBAQAAQJ3AAECAxEEBSExBhJBUQdhcRMiMoEIFEKRobHBCSMzUvAVYnLRChYkNOEl8RcYGRomJygpKjU2Nzg5OkNERUZHSElKU1RVVldYWVpjZGVmZ2hpanN0dXZ3eHl6goOEhYaHiImKkpOUlZaXmJmaoqOkpaanqKmqsrO0tba3uLm6wsPExcbHyMnK0tPU1dbX2Nna4uPk5ebn6Onq8vP09fb3+Pn6/9oADAMBAAIRAxEAPwD7LqlN/wAhy1/69pv/AEKKrtUpv+Q5a/8AXtN/6FFQBdorC8e3gs/Cmofvbu3kmtpY4ri3ilcwuUO1yYgWQA87sYFcB4E8US6n4ztJv+EgvNWjtbGaxu7aASyDz2ktysrILaIAKA43ncR5mB1NAHrlFec6rr+tDxpe6a51C3sLS8j8weQZIri3aBWO1xbbUBdtpLTDBRuRWj8Hr3UbnwsIdRe6ZrZ3jj+0wzCTaJHA3SyZEpwBypI45JoA7WivN9e1fxI3iCG00O91aSLzDdTxyQ2iTPbIwDpbwSKkjqCyqZWIA3rt8wnjq/E988WlwXNtc6jDcSc29paxR+dcsRxHiRG2+pJwFAJYgA0AbtFef+CG1+LxsbXX5Llr3+xI2umMi+TNKJmHmJGh2rwcZwrEAZHHHbWk17JfXkVxYrBbxMgtphMGM4KgsSuPkw2RznOM0AWqK44XF7qXj3XoBrN1ZaXpVhbRnyigVbl/MkkYllP3Y/IODx85yKs+EvEVxN8N9I8Ra3FL9oubOGWRIoGLyNJgLiMDILFl+XtnHagDqKKx9P8AE+iX1xBaQXoF5K7R/ZJFKTxsqliHjPzJwM5IAOVwTuGea8S+KtSsdV1x4GC2+jzabF5O0Hz/ALRKBISSM/dYBcEfMOc9KAO9ooooAKKKKACiiigAooooAKKKKACiiigAooooAKKKKACiiigAooooAKKKKACiiigAooooAKKKKACiiigAooooAKKKKACiiigAooooAKKKKACiiigAooooAKKKKACiiigDG8G/8gif/sJX/wD6VzVs1jeDf+QRP/2Er/8A9K5q2aACqU3/ACHLX/r2m/8AQoqu1Sm/5Dlr/wBe03/oUVAE2o2q3thcWbyzRLPE0ZkhkKSKGGMqw5BHYiud8N+EW0fUbS8bWLu9e2tWtVNwzSMyNtJ5ZjgkohO0DJArqaKAMPxf4eTxBBZK00cb2Vz9ojWeATwyHy3jxJGSNww5I5BDBTngg29B0iHSPDtnokU08sNrbLbrI74cqFxnK4wfpjHbFaNFAGAfCGim5iumbVmuIYXhjmbV7suqOULqGMmcExoT/uirGqeH7G/8K3XhySW7FrcWr2xla4aWdAwI3CSQsxcE5BOcED0rXooAzLDTbqDUje3OpfaWMPlEG2jQkZyPmA3cc8Zxyas2mn21rfXl7EZ/OvGRpt87uuVUKNqklU4HO0DJ5OTzVqigDBXwhoCzahIba4k/tK4+03scl7M8dw+xE+dGcqV2Rou3G3CgYrdIBAGBgUtFADPJh883HlJ5xXZ5m0btuc4z1x7Vn3ug6Xe3xvLi23ysYS/zELIYXMkRYdCVYkj/AOsK06KACiiigAooooAKKKKACiiigAooooAKKKKACiiigAooooAKKKKACiiigAooooAKKKKACiiigAooooAKKKKACiiigAooooAKKKKACiiigAooooAKKKKACiiigAooooAKKKKAMbwb/wAgif8A7CV//wClc1bNY3g3/kET/wDYSv8A/wBK5q2aACqU3/Ictf8Ar2m/9Ciq7VKb/kOWv/XtN/6FFQBdooooAKKKKACiiigDg/Dmr67deMl0i5uZxGk17dTK9uFxBGyQQpuxgiRjJMCDkAbc4GK6zSNb0vVrnUrbTryO4l0y7+x3irn91N5aSbD6/LIp49cdQal0/TbCwaRrO0igaXG8ovJAJIH0BZiB0GT6mud8B+DPDnhbW/FF/odjJbXGsaiLm/drqWXzZSgcth2IUlpH+7jqB0AwAdbRRRQAUUUUAFFFFABRRRQAUUVieLfFWh+FraKXV7srNcN5dpaQxtLc3T/3IolBeRvYDjqcDmgDbrBh8XaHc+LG8MWNy99qMQJuxaxmSOzwMgTSD5Y2PZSdxznGOa53+zvGXjb5tclufCGgN002znH9o3S+k86EiAf7EJLf9NBytdj4f0XSfD+lQ6VomnW2n2UI+SGCMKoJ6k46knkk8k8nmgC/RRRQBxfxK1zVdAkhvrIzNbw2V1O8aw71mlVNsMJIBILySIQeP9URn5q3W1Wz0Y6HpGsaoj6lqLfZbdnUBrqZIWkcgAYHyxs3YdB3Aq5dabYXV1FdXNpFLNFjYzLnGDuH1wwBGehGRzXPeNPBvh3xF4o8K63q9jJcX+i3rS6fIt1LGIWKFidqMFbJjT7wPAx0JBAOsooooAKKKKACiiigAooooAKKKKACiiigAooooAzvE9xdWnh3ULuyjkluYLZ5Yoo/vSsoJCD3bGB9awvAmq393Fqs+qaiZ7bTjDZ+dJCIVkkigRp58EAjMjspHQeVxjnPU3ltBd2z21zEssMgwyMODVLUdC0q/wDDt54fubQf2bewSwXEMbtHvSQESfMpDAtubLA5ySc5oAl0HVdP13RLHWtKuVubC/t0ubaZQQHjdQynB5HBHB5q7XP/AA50HSvDHgbR9D0S2a20+2tl8mJpnlK7vnI3OS2MscAngcDAAFdBQAUUUUAFFFFABRRRQAUUUUAFFFFABRRRQAUUUUAFFFFABRRRQBjeDf8AkET/APYSv/8A0rmrZrG8G/8AIIn/AOwlf/8ApXNWzQAVSm/5Dlr/ANe03/oUVXapTf8AIctf+vab/wBCioAu0UUUAFFFFABRRRQAVS07/j81L/r5H/omOrtUtO/4/NS/6+R/6JjoAu0UUUAFFFFABRVObU7OHVItMkkIupozJGgUsWUHBPHQAkZJwPmFZOrWPiG+mv4ob1LaH92bN1coVYZ3EheWUAg8sNzLjAXlgDQTVYrjVpNLihuGMYIllCkBDjIHqMjoeM9s84qaPbf8I7Z6lcanf2lvp4ledCzbEgj7s7scDONxwAASeuSaytc8dQwalJ4e8NWL+J/EcWFntrVwkFo2OtzMcrCO+35pCPuo1V7LwLcaxeRat8Q9Qj167jcSW+mxoU0y0YcgrCf9c4/56S7j3UJ0oAh/4SrxD4x/c+ALVbPS2+94j1KBvKYetrAcNOfSRtsfcGTpW34S8F6P4euZdSBuNT1u5XbdavfuJbqYf3d2AET0jQKg7CulooAKK5fxX430vQ79NGtoLrWtflTfDpOnqJJyp6PISQsMf+3IVXsCTgGLwzpni+61ZNd8V6xHbbVYQaJppzbQhhjMsrAPO/vhEHZSRuIB1tFFFABVLUf+PzTf+vk/+iZKu1S1H/j803/r5P8A6JkoAu0UUUAFFFFABRRRQAUUUUAFFFFABRWf4h1vSPD2lS6rrmo22n2UWN807hVyegHqSeAByT0rj/t/jPxt8ujRXPg/w+/XULuAf2ldL/0xgcYtwf78oL/9M14YAHoFFRWUAtbOC2WWaUQxrGJJnLu2BjLMeST3PepaACiiigCloP8AyA7D/r2j/wDQRV2qWg/8gOw/69o//QRV2gAooooAKKKKACiiigAooooAKR2VELuwVVGSScACsPxh4s0fwtbwNqEk013dMY7KwtYzLdXbj+GKMct7nhVHLEDmvINR1XxB8SdRk05tMTVYYnKSaHb3WNJtT/1ErxR/pMgPW2hDKOj7uGAB7B4V8U6T4ne9bRHmurO1cRi+ERFtcNzu8mTpKFxgsuVycAkg43K5zwNoGp6HaStrGvy6teThAyJCtvaWqqCFjt4Vz5aAH+JmY4GWOBjo6ACiiigAooooAKKKKAMbwb/yCJ/+wlf/APpXNWzWN4N/5BE//YSv/wD0rmrZoAKpTf8AIctf+vab/wBCiq7VKb/kOWv/AF7Tf+hRUAXaKKKACiiigAooooAKpad/x+al/wBfI/8ARMdXapad/wAfmpf9fI/9Ex0AXaKKKAGTzQ28LTTypFEgyzuwVQPcmsa+u9Zurt7bTIfJgktGkiu3iOUlyNoZXxweRtGTjklflzq39zaWdnLd388FvawL5kss7hUjA53FjwAOuTXDf8JV4h8Y/ufAFqtnpbfe8R6lA3lMPW1gOGnPpI22PuDJ0oA3PE3iXQ/DdlZ3viIww6hOQLazt1NxcTzbSNkKKu+VsMRwvQknAzWH/Z3jLxt82uS3PhDQG6abZzj+0bpfSedCRAP9iElv+mg5Wtvwl4L0fw9cy6kDcanrdyu261e/cS3Uw/u7sAInpGgVB2FdLQBQ8P6LpPh/SodK0TTrbT7KEfJDBGFUE9ScdSTySeSeTzV+kYhVLMQABkk9q4S48cX3iGeTT/hxYQ6ttYpNrdySumW5HB2sPmuXH92P5eMM6HqAdT4l1/RvDelvqeu6jb2FopC75W5djwEUDl2J4CqCSeADXJfaPGvjfizS68F+Hn/5eZUX+1btf9iNgVtlPq4aT/ZjIBrT8NeBrOw1RNf1y+uPEXiIAgajeqMW4PVbeIfJAvb5RuI+8zHmutoAx/CnhnQ/C9g9nolgtssr+ZPKzNJNcSd5JZGJeRz3ZiTWxRRQAUUUUAFUtR/4/NN/6+T/AOiZKu1S1H/j803/AK+T/wCiZKALtFFFABRRRQAUUVSuNW02Bgsl7DuMwg2q24iQ4+UgdOCCc9ByaALjEKpZiAAMkntVfT7601CJ5bSYSKjmN+CCrDsQeRwQfcEHoRVe5bV31aKKCGBbFQGkkZslx3XHYj0xg5zuGMHndY8QeH/Bt/LYW4v9X17UWM0Ok2Z865kGSAQmQkMQ6b3KIO7ZoA7MkAZJwBXC3vjq51q7l0r4d6fDrtzG5juNUlcpplowOCGlHMzj/nnFnkYZk61EPCniDxgfP+IF2ltpjcr4c02ZvIYel1NgNP7oAsfUEPwa7qytbaytIrOzt4ba2hQJFDEgRI1AwFVRwAPQUAcp4e8C21vqsXiDxLfzeJPEMeTFd3SBYrTPUW0A+WEdtwy5H3nbiuwoooAKKKKACiiigCloP/IDsP8Ar2j/APQRV2qWg/8AIDsP+vaP/wBBFXaACiiigAoopGdVKhmALHCgnqcZwPwB/KgBapajqlnYSxRTyEyysAsajLcnGf5/XGBk4FUNZv8AUJbm60nTopobgWnnRXSBG+bJ+XDZVc4wC3c8A7Wxn+NPGXhzwN4Zg8Q+OL6xsJY49o2nzHeQgbkhGAzE47AcDJwBmgDc0uLU4Ly8iu5lubQyeZbSsQJQG5aMgDBCno3XBwR8u5vLvHvxntk1EeGvAUJ1rV5maIXMMJuI0ZeG8qNSDcMp4JBWJD/rJE6HCntfif8AGx8XUd14B8ByYKwygf2hfpjq69lOfut8nXKzKRj1rwH4H8NeCdONpoGnrCzqonuZGMk8+0YG+Q8kAcBfuqOFAHFAHnfg74Tatqdxcav491G58y9XbdWkd1vurtM5CXNygXEf/TtAI4hyD5mST6/pdhY6Xp8GnaZZ29lZ26BIbe3jEccajoFUcAfSrNFABRRRQAUUUUAFFFFABRRRQBjeDf8AkET/APYSv/8A0rmrZrG8G/8AIIn/AOwlf/8ApXNWzQAVSm/5Dlr/ANe03/oUVXapTf8AIctf+vab/wBCioAu0UUUAFFFFABRRRQAVS07/j81L/r5H/omOrtcvrnirQ/CzXkur3ZWW4uxHaWkMbS3N0/kx/JFEoLyN7AcdTgc0AdRXHeIPHdvDqs3h7wvYSeJfEER2y2ttIFgsye9zOQVhGOdvzOR91Gqh/Z3jLxt82uS3PhDQG6abZzj+0bpfSedCRAP9iElv+mg5Wux8P6LpPh/SodK0TTrbT7KEfJDBGFUE9ScdSTySeSeTzQByll4FuNYvItW+IeoR69dxuJLfTY0KaZaMOQVhP8ArnH/AD0l3HuoTpXdUVmeJdf0bw3pb6nruo29haKQu+VuXY8BFA5dieAqgkngA0Aadcv4r8b6Xod+mjW0F1rWvypvh0nT1Ek5U9HkJIWGP/bkKr2BJwDj/aPGvjfizS68F+Hn/wCXmVF/tW7X/YjYFbZT6uGk/wBmMgGtzw1pfhjwjKmgaRaC1nuwbh2+aWa6bOGllkOXdskZdz/EOaAMRfB2teLWFz8RryF7EnKeHLB2+xAelxIQGuj6qQsfbY2Nx6eK6sZbp/D1tZSpbxRGKTy0MaRDHCjGCox0PH+znBxUex8R3U4llvo4DFfb4sMQDBxkMi8EkggBmPDFjg4VejoApaJbXlppkNtfXYu5YhtE20hmUH5dxzy2MZbjJycDpV2iigAooooAKKKKACqWo/8AH5pv/Xyf/RMlXapaj/x+ab/18n/0TJQBdooooAKjM8AuRbGaMTshcR7huKg4Jx1xkjmpKwvEvhu01yeFruVo4ED+dGqjMuV2gbjyowWB24Jz1GKANOS7Z0gayiF0s43LIsgEYXg7i3Ocg8YBz7Dkc7r1r4c8PtfeIvEmp21tpmYiI7nasKMpymc8yPvJKjnBIwMgGsSw8VTS2/8Awjnw4tE8RXFu7pcatcSFNNtXLEuDKMmZgSR5UW7GNrMnWr9j4S07RZv+Eu8Y6nL4g1i1Uv8Ab7tQsNip+99nhzshUDqwzIR1ZuKAK/2/xn42+XRornwf4ffrqF3AP7Sul/6YwOMW4P8AflBf/pmvDDW0zSfDvgPTmTStOlM95LmWYlprm8lx96WZstI2PUk4GFBwBWnf/wBp3txZHTpTFYyq/wBpLKY5ApUgEZGQ2SCBgdCSeArWPD9re2elxW+oXC3E6ljuUs2ASSF3MSzYHG48nFAEdrZ3K6w2oxXDpbXMC+fbS7mIkH3WXnCcHDDBzhemDnToooAKKKKACiiigAooooApaD/yA7D/AK9o/wD0EVdqloP/ACA7D/r2j/8AQRV2gAoorIvdQu/7SgGmqt7BHL5N7EifMm7oyuSFypHzJ1w2eoVWAH3Wv6bBHDKspnjluTbb4RuVHB2kMegweMdSSAASageCDxLprQahbXFs0E5WSLPAkU8MGxiRe46gg4YdVHN/EHxt4J+Hch1LXbgvrOoFDb6ZZgz3N3KF8sGKEfxEEJ5hA42qW6Cuft/Dnjz4of6T4/km8KeFJP8AV+GdPuCLq8jP/P7cLgqpGcwx44bDHIoA0tc+JV5rOo3Hhr4UaZb+I9VgYxXWpysV0nTWAHEsy/61xkfuost1yVxT/B3wo07TNaHjDxnqVx4y8WqNw1G9iHl2mP4bW3XKxKO2Mtknnk11ejjSrLR7jQfCtpbWK6YrQx2ttbBYoG6hQBhMnIbGR94E45p+j2Gtx6jDeX96jBrRUuYVkZ1M3HKcKqgYzkLlix4AAoAZJM/iPTXk0557KWCVZLS4bOxmHcgH50PIZc9CRlW+7vLnaNxBbHJAwKWigAooooAKKKKACiiigAooooAKKKKAMbwb/wAgif8A7CV//wClc1bNY3g3/kET/wDYSv8A/wBK5q2aACqU3/Ictf8Ar2m/9Ciq7VKb/kOWv/XtN/6FFQBdooooAKKKKACiiigArB0jQtHh8V61r8em241a4ljhlvCmZTGsMeEDHkL32jAzk9a3qpad/wAfmpf9fI/9Ex0AXaRiFUsxAAGST2rmPFfjfS9Dv00a2guta1+VN8Ok6eoknKno8hJCwx/7chVewJOAchfB2teLWFz8RryF7EnKeHLB2+xAelxIQGuj6qQsfbY2NxAH3Hji+8Qzyaf8OLCHVtrFJtbuSV0y3I4O1h81y4/ux/LxhnQ9bOi+D9L0W/XxJ4k1KbX/ABAAVXUb4D9yW6x20K/LCD0wg3t/Eznmuwt4YbaCO3t4o4YY1CpHGoVVUdAAOAKcVUkEgEqcgkdKAMK5ufEE91eR2VrHFHAYnt3kGFn5y8bE8jK4+YLhSRyxDKNkwQvIkzwxmVTuDYyQcEZz9CR+JqWigAooooAKKKKACiiigAooooAKpaj/AMfmm/8AXyf/AETJV2qWo/8AH5pv/Xyf/RMlAF2is/xDrekeHtKl1XXNRttPsosb5p3Crk9APUk8ADknpXH/AG/xn42+XRornwf4ffrqF3AP7Sul/wCmMDjFuD/flBf/AKZrwwANvxb400nw/dRaYEudV1y4TfbaRp6CW6lHTcVyBGmeDJIVQd2rFHhTxB4wPn/EC7S20xuV8OabM3kMPS6mwGn90AWPqCH4NdJ4S8K6H4WtZYdHsvLkuH8y6uZXaW4un/vyysS8je7E4HAwABW3QBhyXX2Ows7Xw1p9vNbRTR2/lQJtjjjHBCYwgCgHvgYxgthTe0uO+8mSLVPJmaOdvJlAGXTOVZlxhWGccdcZ4zgXVUKoVQAoGAAOBS0ANhijhhSGJFjjjUKiqMBQOABTqKKACiiigAooooAKKKKACiiigCloP/IDsP8Ar2j/APQRV2qWg/8AIDsP+vaP/wBBFcD44+Lel6ZFdQ+HRb6pNbSeTdX80pj06zkJwEeYAmWXPAhhDyE8ELnNAHfa7q+l6FpU+q61qFrp9jbruluLiUIiD3J/IDvXi2s/Ezxp491S48MfCDSTZRxHZd65qEewW2e4jZTsPcBwZDx+6CnzA3Qfh54q8f6tD4h8fahfwWcbF4IZU8i5b/rjEpIsUIOM5e5I+9JHyte1aDo+l6DpMGk6Lp9vYWNuu2KCCMIij6DuepPUnk0AcB8NPhf4b8CX7and3UviLxlegtPqt8WkncnrsyWMUfbJJOMAscAV2OkT+ILmS0urq3ihhfzUuIG+UqA2Y5V6tyOCrYPIJCkFTthVDFgBuIwTjk0tAEcUEEUjSRwojsoViqgEgEkD82P5mpKKKACiiigAooooAKKKKACiiigAooooAKKKKAMbwb/yCJ/+wlf/APpXNWzWN4N/5BE//YSv/wD0rmrZoAKpTf8AIctf+vab/wBCiq7VKb/kOWv/AF7Tf+hRUAXaKKKACiiigAooooAK4bVrDxlrfiHVdMsdSh8PaCs6ebfWxEt/ckwx5SMMuyBR03nex5wFwGPc1S07/j81L/r5H/omOgCp4U8M6H4XsHs9EsFtllfzJ5WZpJriTvJLIxLyOe7MSa2KKKACiiigAooooAKKKKACiiigAooooAKKKKACue8cy6/FbacPDVpYXGoyXmxDezNHDEphlzI20Fmx/cGNxwMr1HQ1S1H/AI/NN/6+T/6JkoA5zw94FtrfVYvEHiW/m8SeIY8mK7ukCxWmeotoB8sI7bhlyPvO3FdhRRQAUUUUAFFFFABRRRQAUUUUAFFFFABRRRQAUUUUAeBahfeJ/Fhh8OXCrqMqQRq3hzSLxorW3QqNr6pfAbgCOfs8QBYcYkXJHofgj4c2GjTWeqay1tqer2ibLQRWwgstNQj/AFdnbjKxLjjdy7d2I4G/4G0fStD8LWFlo+n21jbmFZTHBGFDOwBZjjqxPJJ5NbdABRRRQAUUUUAFFFFABRRRQAUUUUAFFFFABRRRQAUUUUAFFFFAGN4N/wCQRP8A9hK//wDSuatmsbwb/wAgif8A7CV//wClc1bNABVKb/kOWv8A17Tf+hRVdqlN/wAhy1/69pv/AEKKgC7RRRQAUUUUAFFFFABVLTv+PzUv+vkf+iY6u1l3vh/R7y7kurizDzSEF2EjDdgADofQAfhQBqUVjf8ACLaD/wA+P/kZ/wDGj/hFtB/58f8AyM/+NAGzRWN/wi2g/wDPj/5Gf/Gj/hFtB/58f/Iz/wCNAGzRWN/wi2g/8+P/AJGf/Gj/AIRbQf8Anx/8jP8A40AbNFY3/CLaD/z4/wDkZ/8AGj/hFtB/58f/ACM/+NAGzRWN/wAItoP/AD4/+Rn/AMaP+EW0H/nx/wDIz/40AbNMhmhm3+TLHJ5blH2sDtYdQfQ+1ZP/AAi2g/8APj/5Gf8AxrH8I/DLwd4V8U6p4n0fTpotW1Ry11O91I4IOPlCFtoAx6Z96AOi1TWtI0ttuo6la2h2lv30gXgAsev+yrH6Kx6A1frn9Q0K/vPE1rqp1K3SC0aQwQC0+ZS6IhctvwXAWQA4wBIQQcc9BQAVS1H/AI/NN/6+T/6Jkq7VXU9OstShSG+gEyI+9QSRhsEZyPYn86ALVFY3/CLaD/z4/wDkZ/8AGj/hFtB/58f/ACM/+NAGzRWN/wAItoP/AD4/+Rn/AMaP+EW0H/nx/wDIz/40AbNFY3/CLaD/AM+P/kZ/8aP+EW0H/nx/8jP/AI0AbNFY3/CLaD/z4/8AkZ/8aP8AhFtB/wCfH/yM/wDjQBs0Vjf8ItoP/Pj/AORn/wAaP+EW0H/nx/8AIz/40AbNMeaGOWOF5Y1klz5aFgC+Bk4HfArJ/wCEW0H/AJ8f/Iz/AONc/wCLvhN4F8V3GmS63pMtwNNnNxbot3Ki+YRgE7WBOOo5+uaAO0uriG1haa4kWONepP8AL61DpmpafqkLT6be295ErBWeGQOoJVWHI9VZWHqGB6GqniHS7u+0RtN0y+j04tG8XnNAZWjUxsgKfMMMCykE56EY5yLOiWR07S4LHfGUgRY41jj2IiKAFUDJOAAOpP8AQAF2iiigCloP/IDsP+vaP/0EVdrFXwroCqFXTwoAwAJXAH60v/CLaD/z4/8AkZ/8aANmisb/AIRbQf8Anx/8jP8A40f8ItoP/Pj/AORn/wAaANmisb/hFtB/58f/ACM/+NH/AAi2g/8APj/5Gf8AxoA2aKxv+EW0H/nx/wDIz/40f8ItoP8Az4/+Rn/xoA2aKxv+EW0H/nx/8jP/AI0f8ItoP/Pj/wCRn/xoA2aSR0jRpJGVEUEszHAAHc1j/wDCLaD/AM+P/kZ/8ag1DwZ4dvbC4sprFhHcRNE5WZwcMCDjnrzQBvROksayxOro4DKynIYHoQfSqSa1pD6iNOXUrU3jNtWHzBvJwx4HfhH/AO+G/unGR8OPAnhn4faAuh+FbGSzsgdzK9xJKWbuxLk4J9sCpvDuhX+nareaje6lb3Mt2sQkENp5QAjjCKi5dsJne+OuXPOByAdBRRRQAUUUUAFFFFAGN4N/5BE//YSv/wD0rmrZrG8G/wDIIn/7CV//AOlc1bNABVKb/kOWv/XtN/6FFRRQBdooooAKKKKACiiigAooooAKKKKACiiigAooooAKKKKACiiigAooooAKKKKACiiigAooooAKKKKACiiigAooooAKKKKACiiigAooooAKKKKACiiigAooooAKKKKACiiigAooooAKKKKACiiigAooooAKKKKACiiigDG8G/8AIIn/AOwlf/8ApXNWzRRQB//Z\" width=\"588\" alt=\"image_0.jpg\">\n",
    "\n",
    "\n",
    "**불량 조건 시스템에서의 기울기와 행렬식:**\n",
    "\n",
    "\n",
    "**주어진 연립방정식:**\n",
    "\n",
    "\n",
    "$$a_{11} x_1 +a_{12} x_2 =b_1 ~~\\Rightarrow ~~x_2 =-\\frac{a_{11} }{a_{12} }x_1 +\\frac{b_1 }{a_{12} }$$\n",
    "\n",
    "$$a_{21} x_1 +a_{22} x_2 =b_2 ~~\\Rightarrow ~~x_2 =-\\frac{a_{21} }{a_{22} }x_1 +\\frac{b_2 }{a_{22} }$$\n",
    "\n",
    "**기울기가 거의 같다면:**\n",
    "\n",
    "\n",
    "$$\\frac{a_{11} }{a_{12} }\\approx \\frac{a_{21} }{a_{22} }$$\n",
    "\n",
    "이 경우:\n",
    "\n",
    "\n",
    "$$a_{11} a_{22} -a_{12} a_{21} \\approx 0$$\n",
    "\n",
    "따라서 행렬식 $D$ 는 다음과 같이 거의 0이 됩니다:\n",
    "\n",
    "\n",
    "$$D=\\left\\lbrack \\begin{array}{cc} a_{11}  & a_{12} \\newline a_{21}  & a_{22}  \\end{array}\\right\\rbrack \\approx 0$$\n",
    "\n",
    "**불량 조건:**\n",
    "\n",
    "\n",
    "$$D\\sim 0$$\n",
    "\n",
    "\n",
    " **따라서 행렬계산(연립방정식) 에서의 불량조건은 두 식의 기울기가 같거나 혹은 너무 유사하면 불량이 발생할 조건이 된다.**\n",
    "\n",
    "\n",
    "**따라서 D(판별식)이 0에 가까울 수록 불량 시스템이라고 판정할 수 있다.**\n",
    "\n",
    "\n",
    "**하지만 판별식도 문제가 있다.**\n",
    "\n",
    "\n",
    "**다음을 보자**\n",
    "\n",
    "\n",
    "**예제: 다음과 같은 시스템의 행렬식을 계산하시오.**\n",
    "\n",
    "\n",
    "**(a)**\n",
    "\n",
    "\n",
    "$$\\begin{array}{l} 3x_1 +2x_2 =18\\newline -x_1 +2x_2 =2 \\end{array}$$\n",
    "\n",
    "**(b)**\n",
    "\n",
    "\n",
    "$$\\begin{array}{l} x_1 +2x_2 =10\\newline 1.1x_1 +2x_2 =10.4 \\end{array}$$\n",
    "\n",
    "**(b) 연립방정식에 10을 곱한 후 행렬식을 구하시오.**\n",
    "\n",
    "\n",
    "(a)\n",
    "\n",
    "\n",
    "$$\\left\\lbrack \\begin{array}{cc} 3 & 2\\newline -1 & 2 \\end{array}\\right\\rbrack =6+2=8$$\n",
    "\n",
    "(b)\n",
    "\n",
    "\n",
    "$$\\left\\lbrack \\begin{array}{cc} 1 & 2\\newline 1\\ldotp 1 & 2 \\end{array}\\right\\rbrack =2-2\\ldotp 2=-0\\ldotp 2$$\n",
    "\n",
    "$$\\left\\lbrack \\begin{array}{cc} 10 & 20\\newline 11 & 20 \\end{array}\\right\\rbrack =200-220=-20$$\n",
    "\n",
    "**행렬식 축척화 (scaling)**\n",
    "\n",
    "\n",
    "행렬을 축척하여 단순화한 결과:\n",
    "\n",
    "\n",
    "행렬의 스케일링은 각 행기준으로 가장 큰수로 나눠준다.\n",
    "\n",
    "\n",
    "$$\\left\\lbrack \\begin{array}{cc} 3 & 2\\newline -1 & 2 \\end{array}\\right\\rbrack ~\\left\\lbrack \\begin{array}{cc} 1 & 0\\ldotp 667\\newline -0\\ldotp 5 & 1 \\end{array}\\right\\rbrack =1\\ldotp 333$$\n",
    "\n",
    "$$\\left\\lbrack \\begin{array}{cc} 1 & 2\\newline 1\\ldotp 1 & 2 \\end{array}\\right\\rbrack ~\\left\\lbrack \\begin{array}{cc} 0\\ldotp 5 & 1\\newline 0\\ldotp 55 & 1 \\end{array}\\right\\rbrack =-0\\ldotp 05$$\n",
    "\n",
    "**특이 (singular) 시스템**\n",
    "\n",
    "-  **특이 시스템**: 연립방정식 내에 동일한 방정식이 존재하거나 방정식보다 미지수의 개수가 더 많은 시스템.\n",
    "-  두 방정식이 완전히 동일하면 자유도(degree of freedom)가 1개 줄어듦.(방정식이 하나 줄어들면 자유도가 하나 줄어든다)\n",
    "-  **특이 시스템의 행렬식**은 0이며, 대규모 시스템에서 행렬식 계산이 어려움.\n",
    "\n",
    "**특이 시스템의 예:**\n",
    "\n",
    "-  Gauss 소거법에서 전진 소거 단계를 마친 후 삼각 행렬에서 대각선 요소에 0이 있으면 **특이 시스템**.\n",
    "-  프로그램에서 계산을 종료하고 사용자에게 특이 시스템임을 알리는 루틴이 추가되어야 함.\n",
    "\n",
    "**방정식의 갯수가 미지수보다 현저히 많다던지, 미지수의 갯수가 방정식의 갯수보다 현저히 많다던지 하는 문제는 둘다 문제가 될 수 있다.**\n",
    "\n",
    "## **자세히**\n",
    "\n",
    " **1.** **특이 (singular) 시스템**\n",
    "\n",
    "-  **특이 시스템**이란 연립방정식 내에서 **동일한 방정식**이 존재하거나, **방정식의 수**보다 **미지수의 수**가 많은 시스템을 말합니다.\n",
    "-  즉, 방정식의 정보가 부족하거나 중복된 정보로 인해 **해를 유일하게 결정하지 못하는 시스템**을 의미합니다.\n",
    "-  이러한 경우에는 하나의 해를 구할 수 없고, 무한대의 해가 존재하거나, 아예 해가 없을 수도 있습니다.\n",
    "-  예를 들어, 만약 두 개의 방정식이 완전히 동일한 형태라면, 이 시스템은 자유도(degree of freedom)를 1개 잃게 됩니다. 즉, $n$ 개의 미지수가 있는 연립방정식에서 \\*\\* $(n-1)$ \\*\\*개의 방정식만으로 해를 구하게 됩니다. 이는 미지수에 대한 제약 조건이 부족해지므로 해가 결정되지 않거나, 추가적인 자유 변수가 생기게 됩니다.\n",
    "-  **특이 시스템의 행렬식은 항상 0**이 됩니다.\n",
    "-  \\*\\*행렬식(determinant)\\*\\*은 연립방정식에서 해가 유일한지 여부를 확인할 수 있는 중요한 도구입니다.\n",
    "-  행렬식이 0이면, 이는 선형 종속 관계가 존재하여 방정식의 해가 유일하지 않다는 것을 의미합니다.\n",
    "-  따라서 대규모 시스템에서 특이 시스템이 발생하면, **행렬식 계산 자체가 어려워지고** 수치적인 문제를 일으킬 수 있습니다.\n",
    "\n",
    " **2.** **Gauss 소거법에서의 특이 시스템 처리**\n",
    "\n",
    "-  **Gauss 소거법**은 연립방정식을 해결하는 가장 기본적인 방법 중 하나로, 주어진 연립방정식을 단계적으로 소거하여 **상삼각 행렬** 형태로 만들고, 후진 대입법을 사용해 해를 구하는 방법입니다.\n",
    "-  하지만 **특이 시스템**에서 Gauss 소거법을 적용할 경우, 전진 소거 단계를 마친 후 **대각선 요소에 0**이 나타날 수 있습니다. 이는 방정식이 선형 종속 상태임을 의미합니다.\n",
    "-  이 경우 Gauss 소거법으로는 더 이상 진행할 수 없으며, 수치적 불안정성으로 인해 해를 정확히 구할 수 없게 됩니다.\n",
    "-  따라서 **프로그램이 특이 시스템을 탐지하면** 계산을 종료하고 사용자에게 **특이 시스템임을 알리는 루틴**을 추가하는 것이 중요합니다.\n",
    "\n",
    " **3.** **불량 조건 시스템 문제에 대한 해결책**\n",
    "\n",
    "\n",
    "불량 조건 시스템에서 발생하는 수치적 문제를 해결하는 방법에는 다음과 같은 세 가지 주요 방법이 있습니다:\n",
    "\n",
    "1.  **유효 숫자 증가**\n",
    "\n",
    "-  **유효 숫자**란 수치 계산에서 정확하게 나타낼 수 있는 숫자의 자릿수를 의미합니다.\n",
    "-  불량 조건 시스템에서는 계산 과정에서 발생하는 **반올림 오차**가 결과에 큰 영향을 미치게 됩니다.\n",
    "-  따라서 **계산 정확도를 높이기 위해 유효 숫자를 증가시키는 것**이 불량 조건 시스템에 대한 가장 근본적인 해결책입니다.\n",
    "-  예를 들어, 소수점 자릿수를 많이 사용하는 고정소수점이나 부동소수점 방식을 개선하거나, 고정밀도의 연산 방식을 채택하는 것이 가능합니다.\n",
    "\n",
    "1.  **피벗화**\n",
    "\n",
    "-  **피벗화**는 연립방정식을 풀 때, 계산 과정에서 **가장 큰 값**을 피벗으로 선택해 수치적인 불안정을 줄이는 방법입니다.\n",
    "-  특히 Gauss 소거법에서 피벗 요소를 선택할 때 **가장 큰 절대값을 가진 요소를 선택**해 계산하는 것이 좋습니다.\n",
    "-  이는 **부분 피벗화(Partial Pivoting)** 또는 \\*\\*완전 피벗화(Complete Pivoting)\\*\\*으로 구분되며, 수치적인 안정성을 높이는 방법입니다.\n",
    "\n",
    "1.  **축척화 (Scaling)**\n",
    "\n",
    "-  **축척화**는 방정식이나 행렬을 크기 면에서 균형을 맞추어 계산의 안정성을 높이는 방법입니다.\n",
    "-  연립방정식에서 어떤 항은 매우 크고, 다른 항은 매우 작은 경우 수치적으로 불안정해질 수 있습니다. 이를 방지하기 위해 **각 방정식 또는 각 행의 요소를 동일한 비율로 나누거나 곱해주는 방식**으로 수치적 문제를 해결할 수 있습니다.\n",
    "-  축척화는 행렬의 요소들을 **비교적 균일한 크기**로 만들기 때문에, 계산 과정에서 발생할 수 있는 큰 오차를 방지하는 데 도움이 됩니다.\n",
    "\n",
    "\n",
    "간단한 연습:\n",
    "\n",
    "\n",
    "$$x_1 +2x_2 =10$$\n",
    "\n",
    "$$1.1x_1 +2x_2 =10.4$$"
   ]
  },
  {
   "cell_type": "code",
   "execution_count": 11,
   "metadata": {},
   "source": [
    "% 문제 3: 불량 조건 시스템\n",
    "A = [1 2; 1.1 2]; % 계수 행렬\n",
    "b = [10; 10.4]; % 상수 벡터\n",
    "\n",
    "% Gauss 소거법 적용\n",
    "n = length(b);\n",
    "for i = 1:n-1\n",
    "    for j = i+1:n\n",
    "        factor = A(j,i) / A(i,i);\n",
    "        A(j,i:n) = A(j,i:n) - factor * A(i,i:n);\n",
    "        b(j) = b(j) - factor * b(i);\n",
    "    end\n",
    "end\n",
    "\n",
    "% 후진 대입법 적용\n",
    "x = zeros(n,1);\n",
    "x(n) = b(n) / A(n,n);\n",
    "for i = n-1:-1:1\n",
    "    x(i) = (b(i) - A(i,i+1:n)*x(i+1:n)) / A(i,i);\n",
    "end\n",
    "\n",
    "% 결과 출력\n",
    "disp('문제 3의 해 (x_1, x_2):');"
   ],
   "outputs": [
    {
     "data": {
      "text/plain": [
       "문제 3의 해 (x_1, x_2):"
      ]
     },
     "metadata": {},
     "execution_count":  11,
     "output_type": "execute_result"
    }
   ]
  },
  {
   "cell_type": "code",
   "execution_count": 12,
   "metadata": {},
   "source": [
    "disp(x);"
   ],
   "outputs": [
    {
     "data": {
      "text/plain": [
       "   4.000000000000009\n",
       "   2.999999999999996"
      ]
     },
     "metadata": {},
     "execution_count":  12,
     "output_type": "execute_result"
    }
   ]
  },
  {
   "cell_type": "markdown",
   "metadata": {},
   "source": [
    "\n",
    "\n",
    "\n",
    "**추가학습**\n",
    "\n",
    "\n",
    "**1. 부분 피벗화 (Partial Pivoting)****정의:**\n",
    "\n",
    "\n",
    "부분 피벗화는 현재 소거를 진행하는 단계에서 **열** 방향으로 가장 큰 절대값을 가진 원소를 선택하고, 그 행을 현재 행과 교환하는 방법입니다. 즉, 현재 계산하려는 열에서 가장 큰 절대값의 피벗을 선택하여 계산의 안정성을 높이는 방식입니다.\n",
    "\n",
    "\n",
    "**절차:**\n",
    "\n",
    "1.  현재 소거 단계에서 피벗이 될 행렬의 대각선 원소를 선택하려고 할 때, 그 열에서 가장 큰 절대값을 찾습니다.\n",
    "2. 그 원소가 있는 행을 현재 피벗 행과 교환합니다.\n",
    "3. Gauss 소거법을 계속 진행합니다.\n",
    "\n",
    "**예시:**\n",
    "\n",
    "\n",
    "행렬 $A$ 가 다음과 같을 때,\n",
    "\n",
    "\n",
    "$$A=\\left\\lbrack \\begin{array}{ccc} 0 & 2 & 3\\newline 4 & 6 & 7\\newline 2 & 1 & 6 \\end{array}\\right\\rbrack$$\n",
    "\n",
    "첫 번째 열에서 0이 피벗으로 선택되면 수치적 불안정성이 발생할 수 있습니다. 이때 부분 피벗화를 사용하여 첫 번째 열에서 절대값이 가장 큰 $4$ 가 있는 두 번째 행을 첫 번째 행과 교환합니다. 그러면 새로운 행렬은 다음과 같이 됩니다:\n",
    "\n",
    "\n",
    "$$A=\\left\\lbrack \\begin{array}{ccc} 4 & 6 & 7\\newline 0 & 2 & 3\\newline 2 & 1 & 6 \\end{array}\\right\\rbrack$$\n",
    "\n",
    "이제 이 행렬을 기준으로 소거를 진행할 수 있습니다.\n",
    "\n",
    "\n",
    "**장점:**\n",
    "\n",
    "-  행 교환만으로 해결되므로 계산이 간단하다.\n",
    "-  대부분의 수치적 불안정성을 해결할 수 있다.\n",
    "\n",
    "**단점:**\n",
    "\n",
    "-  열에서만 피벗을 고려하므로 모든 경우에서 완벽한 안정성을 보장하지 못할 수 있다."
   ]
  },
  {
   "cell_type": "code",
   "execution_count": 13,
   "metadata": {},
   "source": [
    "% 부분 피벗화를 사용한 Gauss 소거법 예시\n",
    "\n",
    "% 계수 행렬과 상수 벡터 정의\n",
    "A = [0 2 3; 4 6 7; 2 1 6]; % 계수 행렬\n",
    "b = [8; -3; 5]; % 상수 벡터\n",
    "\n",
    "n = length(b); % 행렬의 크기\n",
    "\n",
    "% Gauss 소거법: 부분 피벗화 적용\n",
    "for i = 1:n-1\n",
    "    % 부분 피벗화: 현재 열에서 가장 큰 값을 찾고 행을 교환\n",
    "    [~, maxRow] = max(abs(A(i:n,i))); % 절대값이 가장 큰 행을 찾음\n",
    "    maxRow = maxRow + i - 1; % 실제 행 위치로 조정\n",
    "    if maxRow ~= i\n",
    "        A([i maxRow], :) = A([maxRow i], :); % 행 교환\n",
    "        b([i maxRow]) = b([maxRow i]);       % 상수 벡터도 교환\n",
    "    end\n",
    "\n",
    "    % Gauss 소거법 진행: 상삼각 행렬로 변환\n",
    "    for j = i+1:n\n",
    "        factor = A(j,i) / A(i,i);\n",
    "        A(j,i:n) = A(j,i:n) - factor * A(i,i:n);\n",
    "        b(j) = b(j) - factor * b(i);\n",
    "    end\n",
    "end\n",
    "\n",
    "% 후진 대입법으로 해 구하기\n",
    "x = zeros(n,1);\n",
    "x(n) = b(n) / A(n,n); % 마지막 변수를 구함\n",
    "for i = n-1:-1:1\n",
    "    x(i) = (b(i) - A(i,i+1:n)*x(i+1:n)) / A(i,i); % 나머지 변수 계산\n",
    "end\n",
    "\n",
    "% 결과 출력\n",
    "disp('부분 피벗화를 사용한 해 (x_1, x_2, x_3):');"
   ],
   "outputs": [
    {
     "data": {
      "text/plain": [
       "부분 피벗화를 사용한 해 (x_1, x_2, x_3):"
      ]
     },
     "metadata": {},
     "execution_count":  13,
     "output_type": "execute_result"
    }
   ]
  },
  {
   "cell_type": "code",
   "execution_count": 14,
   "metadata": {},
   "source": [
    "disp(x);"
   ],
   "outputs": [
    {
     "data": {
      "text/plain": [
       "  -5.431818181818182\n",
       "   0.045454545454546\n",
       "   2.636363636363636"
      ]
     },
     "metadata": {},
     "execution_count":  14,
     "output_type": "execute_result"
    }
   ]
  },
  {
   "cell_type": "markdown",
   "metadata": {},
   "source": [
    "\n",
    "\n",
    "\n",
    "**2.** **완전 피벗화 (Complete Pivoting)****정의:**\n",
    "\n",
    "\n",
    "완전 피벗화는 행렬에서 현재 소거 단계에서 **행과 열**을 모두 고려하여, 전체 행렬에서 가장 큰 절대값을 가진 원소를 피벗으로 선택하고, 그 원소가 있는 행과 열을 현재의 행과 열과 교환하는 방법입니다. 즉, 전체 행렬에서 가장 큰 원소를 선택하여 계산의 안정성을 극대화하는 방식입니다.\n",
    "\n",
    "\n",
    "**절차:**\n",
    "\n",
    "1.  현재 소거할 단계에서 행과 열을 모두 살펴보고, 행렬 내에서 가장 큰 절대값을 찾습니다.\n",
    "2. 그 원소가 위치한 행과 열을 각각 현재의 피벗 행과 피벗 열과 교환합니다.\n",
    "3. Gauss 소거법을 계속 진행합니다.\n",
    "\n",
    "**예시:**\n",
    "\n",
    "\n",
    "같은 행렬 $A$ 에서 완전 피벗화를 적용하면, 첫 번째 열과 행만을 고려하는 것이 아니라 전체 행렬을 확인합니다. 여기서 가장 큰 절대값은 $7$ 이므로, 이 원소가 있는 피벗요소열을 순차적으로 교환하고, 해당 행도 교환하여 새로운 행렬을 만듭니다:\n",
    "\n",
    "\n",
    "원래행렬 $A$\n",
    "\n",
    "\n",
    "$$A=\\left\\lbrack \\begin{array}{ccc} 0 & 2 & 3\\newline 4 & 6 & 7\\newline 2 & 1 & 6 \\end{array}\\right\\rbrack$$\n",
    "\n",
    "열교환(피벗요소열 교환)\n",
    "\n",
    "\n",
    "$$A=\\left\\lbrack \\begin{array}{ccc} 3 & 0 & 2\\newline 7 & 4 & 6\\newline 6 & 2 & 1 \\end{array}\\right\\rbrack$$\n",
    "\n",
    "행교환\n",
    "\n",
    "\n",
    "$$A=\\left\\lbrack \\begin{array}{ccc} 7 & 4 & 6\\newline 3 & 0 & 2\\newline 6 & 2 & 1 \\end{array}\\right\\rbrack$$\n",
    "\n",
    "이제 이 행렬을 기준으로 소거를 진행합니다.\n",
    "\n",
    "\n",
    "**장점:**\n",
    "\n",
    "-  수치적으로 매우 안정적이며, 모든 경우에서 안정성을 높여줍니다.\n",
    "-  행과 열을 모두 고려하므로, 부분 피벗화보다 더 안전한 방식입니다.\n",
    "\n",
    "**단점:**\n",
    "\n",
    "-  계산이 복잡해지고, 매 소거 단계마다 행과 열을 교환해야 하므로 연산량이 많아집니다.\n",
    "-  코드 구현 및 계산 속도가 부분 피벗화에 비해 상대적으로 느려질 수 있습니다."
   ]
  },
  {
   "cell_type": "code",
   "execution_count": 15,
   "metadata": {},
   "source": [
    "% Gauss 소거법: 완전 피벗화 적용\n",
    "A = [0 2 3; 4 6 7; 2 1 6]; % 계수 행렬\n",
    "b = [8; -3; 5]; % 상수 벡터\n",
    "n = length(b); % 변수의 개수\n",
    "\n",
    "% 행과 열의 순서를 기록하는 벡터\n",
    "col_order = 1:n;\n",
    "\n",
    "% 완전 피벗화 및 Gauss 소거법\n",
    "for i = 1:n-1\n",
    "    % 남은 부분 행렬에서 가장 큰 절대값을 가진 원소 찾기\n",
    "    [~, max_idx] = max(abs(A(i:n, i:n)), [], 'all', 'linear');\n",
    "    [maxRow, maxCol] = ind2sub([n-i+1, n-i+1], max_idx);\n",
    "    maxRow = maxRow + i - 1; % 전체 행렬에서의 행 위치\n",
    "    maxCol = maxCol + i - 1; % 전체 행렬에서의 열 위치\n",
    "\n",
    "    % 행 교환\n",
    "    if maxRow ~= i\n",
    "        A([i maxRow], :) = A([maxRow i], :);\n",
    "        b([i maxRow]) = b([maxRow i]);\n",
    "    end\n",
    "\n",
    "    % 열 교환 (열 순서 기록을 위해 열 순서 벡터도 교환)\n",
    "    if maxCol ~= i\n",
    "        A(:, [i maxCol]) = A(:, [maxCol i]);\n",
    "        col_order([i maxCol]) = col_order([maxCol i]);\n",
    "    end\n",
    "\n",
    "    % Gauss 소거법 진행\n",
    "    for j = i+1:n\n",
    "        factor = A(j,i) / A(i,i);\n",
    "        A(j,i:n) = A(j,i:n) - factor * A(i,i:n);\n",
    "        b(j) = b(j) - factor * b(i);\n",
    "    end\n",
    "end\n",
    "\n",
    "% 후진 대입법 적용\n",
    "x = zeros(n,1);\n",
    "x(n) = b(n) / A(n,n);\n",
    "for i = n-1:-1:1\n",
    "    x(i) = (b(i) - A(i,i+1:n)*x(i+1:n)) / A(i,i);\n",
    "end\n",
    "\n",
    "% 해를 원래 순서로 복원 (열 순서에 맞춰 재정렬)\n",
    "x_final = zeros(n,1);\n",
    "x_final(col_order) = x;\n",
    "\n",
    "% 결과 출력\n",
    "disp('해 (x_1, x_2, x_3):');"
   ],
   "outputs": [
    {
     "data": {
      "text/plain": [
       "해 (x_1, x_2, x_3):"
      ]
     },
     "metadata": {},
     "execution_count":  15,
     "output_type": "execute_result"
    }
   ]
  },
  {
   "cell_type": "code",
   "execution_count": 16,
   "metadata": {},
   "source": [
    "disp(x_final);"
   ],
   "outputs": [
    {
     "data": {
      "text/plain": [
       "  -5.431818181818182\n",
       "   0.045454545454545\n",
       "   2.636363636363637"
      ]
     },
     "metadata": {},
     "execution_count":  16,
     "output_type": "execute_result"
    }
   ]
  },
  {
   "cell_type": "markdown",
   "metadata": {},
   "source": [
    "## 좀 더 생각해보기\n",
    "\n",
    "머신러닝의 일부는 가우스 소거법을 사용하고 있지만 파라미터의 개수가 늘어나면 계산량이 기하급수적으로 늘어나고 계산시간이 너무 오래걸리기 때문에 딥러닝과 여러 머신러닝 알고리즘에서는 경사하강법을 사용하고 있다.\n",
    "\n",
    "\n",
    "하지만 계수의 근사치를 구한다는 관점에서 두 방법은 방법의 차이만 있을 뿐 근본적으로 참값과는 다른 참값과 근사한 계수를 구한다는 점에서 동일하다고 볼수 있다.\n",
    "\n",
    "\n",
    "예를 들어 CNN의 경우도 넘파이의 배열로 데이터를 바꾸어 연산하며, 가우스 소거법과 동일하게 연립방정식의 형태로 데이터를 투입한다., 두 방법의 차이점은 단지 계수를 구하는 방식에서만 차이점이 있다. 혹자는 가우스 소거법이 가장 정확한 방법이라고 하지만, 가우스 소거법도 근사치를 구하는 방법이고, 경사하강법 또한 편미분을 하여 근사한 계수를 구하는 방법이다. 경사하강법의 경우 초기값이 필요하며, 어떻게 보면 가우스 소거법 보다 대충 구하는 방법이라고 볼수있다.\n",
    "\n",
    "\n",
    "따라서 두 모델 모두 연립방정식의 행렬연산이라는 점에서 근본적인 원리가 동일하다. 위에서 언급한 내재적 불안정성(실제 참값과 근사치를 비교하여 가장 근사한 계수를 산출하여도 실제 참값이 아닌 문제, 근본적 계산오차의 문제)는 위의 오차 해소 방법 등으로 해소될 수 없다.(경사하강법에서도 이를 해결할 방법이 없다. 스케일링이나 이런것들은 딥러닝이나 머신러닝에서도 모두 사용하는 방식이다.) 또한 방정식의 숫자 혹은 연결이 많아지면 근본적인 모델의 불안정성은 올라가게 되어있다.\n",
    "\n",
    "\n",
    "따라서 딥러닝에서  연결의 노드의 수가 많아지면 성능이 떨어진다던지 혹은 학습을 너무 많이하면 성능이 떨어진다 던지 하는 근본적인 원인이 이러한 점에 기인하고 있다고 생각되어진다.\n",
    "\n",
    "\n",
    "하지만 딥러닝이나 머신러닝에서는 이를 해결하기위해서 파라미터의 수를 엄청나게 늘리는 방식으로 해결하거나, 혹은 컨볼루젼 방식, 패딩 등 여러 복잡한 구조로 정확성을 높이는 방식으로 구조적으로 연결의 배열을 바꾼다던지, 그래도 안되면 연결을 삭제한다던지 하는 다양한 방법(실험적 방법)을 사용하는 것이라 생각되어진다\n",
    "\n",
    "\n",
    "\n",
    "\n",
    ""
   ]
  }
 ],
 "metadata": {
  "kernelspec": {
   "display_name": "MATLAB (matlabkernel)",
   "language": "matlab",
   "name": "matlab"
  },
  "language_info": {
   "file_extension": ".m",
   "mimetype": "text/matlab",
   "name": "matlab",
   "nbconvert_exporter": "matlab",
   "pygments_lexer": "matlab",
   "version": "24.2.0.2712019"
  }
 },
 "nbformat": 4,
 "nbformat_minor": 4
}